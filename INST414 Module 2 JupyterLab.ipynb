{
 "cells": [
  {
   "cell_type": "code",
   "execution_count": 6,
   "metadata": {},
   "outputs": [],
   "source": [
    "# INST414 Module 2: Social Media & Mental Health\n",
    "import networkx as nx\n",
    "import pandas as pd\n",
    "import matplotlib.pyplot as pl\n",
    "import matplotlib.pyplot as plt"
   ]
  },
  {
   "cell_type": "code",
   "execution_count": 2,
   "metadata": {},
   "outputs": [],
   "source": [
    "file_path = r\"C:\\Users\\MegaN\\Downloads\\XXH2023_YRBS_Data.dat\"  # Use raw string\n",
    "\n",
    "# ✅ Read data safely\n",
    "with open(file_path, \"r\", encoding=\"utf-8\") as file:\n",
    "    lines = file.readlines()\n",
    "\n",
    "# ✅ Skip header if necessary\n",
    "if lines[0].startswith(\"source\"):  # Adjust based on your file's header\n",
    "    lines = lines[1:]\n",
    "\n",
    "# ✅ Process data into edges\n",
    "edges = []\n",
    "for line in lines:\n",
    "    parts = line.strip().split()  # Change to split(',') if CSV, split('\\t') if tab-separated\n",
    "\n",
    "    if len(parts) == 3:\n",
    "        try:\n",
    "            source, target, weight = parts\n",
    "            edges.append((source, target, float(weight)))  # Convert weight to float\n",
    "        except ValueError:\n",
    "            print(f\"Skipping invalid row: {line}\")"
   ]
  },
  {
   "cell_type": "code",
   "execution_count": 3,
   "metadata": {},
   "outputs": [],
   "source": [
    "G = nx.Graph()\n",
    "G.add_weighted_edges_from(edges)"
   ]
  },
  {
   "cell_type": "code",
   "execution_count": 4,
   "metadata": {},
   "outputs": [
    {
     "name": "stdout",
     "output_type": "stream",
     "text": [
      "Node Centrality: {}\n"
     ]
    }
   ],
   "source": [
    "centrality = nx.degree_centrality(G)\n",
    "print(\"Node Centrality:\", centrality)"
   ]
  },
  {
   "cell_type": "code",
   "execution_count": 8,
   "metadata": {},
   "outputs": [
    {
     "name": "stdout",
     "output_type": "stream",
     "text": [
      "Nodes: []\n",
      "Edges: []\n"
     ]
    },
    {
     "data": {
      "image/png": "[encoded data removed]",
      "text/plain": [
       "<Figure size 800x600 with 1 Axes>"
      ]
     },
     "metadata": {},
     "output_type": "display_data"
    }
   ],
   "source": [
    "plt.figure(figsize=(8,6))\n",
    "nx.draw(G, pos, with_labels=True, node_color=\"lightblue\", edge_color=\"gray\", node_size=2000, font_size=10)\n",
    "\n",
    "# ✅ Debugging: Print node and edge labels\n",
    "print(\"Nodes:\", list(G.nodes()))\n",
    "print(\"Edges:\", list(G.edges(data=True)))\n",
    "\n",
    "edge_labels = {(e[0], e[1]): e[2]['weight'] for e in G.edges(data=True)}\n",
    "nx.draw_networkx_edge_labels(G, pos, edge_labels=edge_labels)\n",
    "\n",
    "plt.title(\"Graph Visualization from .dat File\")\n",
    "plt.show()"
   ]
  }
 ],
 "metadata": {
  "kernelspec": {
   "display_name": "Python 3",
   "language": "python",
   "name": "python3"
  },
  "language_info": {
   "codemirror_mode": {
    "name": "ipython",
    "version": 3
   },
   "file_extension": ".py",
   "mimetype": "text/x-python",
   "name": "python",
   "nbconvert_exporter": "python",
   "pygments_lexer": "ipython3",
   "version": "3.11.5"
  }
 },
 "nbformat": 4,
 "nbformat_minor": 2
}
